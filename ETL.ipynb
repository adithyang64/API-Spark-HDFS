{
 "cells": [
  {
   "cell_type": "code",
   "execution_count": 1,
   "metadata": {},
   "outputs": [],
   "source": [
    "import shutil\n",
    "\n",
    "if os.path.exists(os.path.join(\"metastore_db\")):\n",
    "    shutil.rmtree(os.path.join(\"metastore_db\"))\n",
    "if os.path.exists(os.path.join(\"derby.log\")):\n",
    "    os.remove(os.path.join(\"derby.log\"))"
   ]
  },
  {
   "cell_type": "code",
   "execution_count": 2,
   "metadata": {},
   "outputs": [],
   "source": [
    "warehouse_location=\"database\"\n",
    "spark = SparkSession \\\n",
    "    .builder \\\n",
    "    .appName(\"Python Spark SQL integration\") \\\n",
    "    .config(\"spark.sql.warehouse.dir\", warehouse_location) \\\n",
    "    .enableHiveSupport() \\\n",
    "    .getOrCreate()"
   ]
  },
  {
   "cell_type": "code",
   "execution_count": 1,
   "metadata": {},
   "outputs": [
    {
     "name": "stdout",
     "output_type": "stream",
     "text": [
      "+---------+---------+-----------+\n",
      "|namespace|tableName|isTemporary|\n",
      "+---------+---------+-----------+\n",
      "+---------+---------+-----------+\n",
      "\n"
     ]
    }
   ],
   "source": [
    "spark.sql(\"show tables;\").show()"
   ]
  },
  {
   "cell_type": "code",
   "execution_count": 2,
   "metadata": {},
   "outputs": [
    {
     "name": "stdout",
     "output_type": "stream",
     "text": [
      "{'form_date': '2023-01-01', 'to_date': '2023-01-05', 'from_date_obj': datetime.datetime(2023, 1, 1, 0, 0), 'to_date_obj': datetime.datetime(2023, 1, 5, 0, 0)}\n"
     ]
    }
   ],
   "source": [
    "import json\n",
    "import logging\n",
    "import os\n",
    "import datetime\n",
    "import requests\n",
    "\n",
    "\n",
    "\n",
    "DATA_SOURCE_URL = f\"https://www.consumerfinance.gov/data-research/consumer-complaints/search/api/v1/\" \\\n",
    "                  f\"?date_received_max=<todate>&date_received_min=<fromdate>\" \\\n",
    "                  f\"&field=all&format=json\"\n",
    "\n",
    "def get_from_date_to_date():\n",
    "    from_date = \"2023-01-01\"\n",
    "    from_date = datetime.datetime.strptime(from_date, \"%Y-%m-%d\")\n",
    "    to_date = \"2023-01-05\"\n",
    "    to_date = datetime.datetime.strptime(to_date, \"%Y-%m-%d\")   \n",
    "\n",
    "    #to_date = datetime.datetime.now() #current date\n",
    "\n",
    "    response = {\n",
    "        \"form_date\": from_date.strftime(\"%Y-%m-%d\"),\n",
    "        \"to_date\": to_date.strftime(\"%Y-%m-%d\"),\n",
    "        \"from_date_obj\": from_date,\n",
    "        \"to_date_obj\": to_date\n",
    "    }\n",
    "    logging.info(f\"From date and to date {response}\")\n",
    "    return response\n",
    "\n",
    "print(get_from_date_to_date())\n",
    "\n"
   ]
  },
  {
   "cell_type": "code",
   "execution_count": 3,
   "metadata": {},
   "outputs": [],
   "source": [
    "def download_data():\n",
    "    from_date, to_date, from_date_obj, to_date_obj = get_from_date_to_date().values()\n",
    "    if to_date==from_date:\n",
    "        return None\n",
    "    url = DATA_SOURCE_URL.replace(\"<todate>\", to_date).replace(\"<fromdate>\", from_date)\n",
    "    print(url)\n",
    "    print(f\"Started downloading data\")\n",
    "    \n",
    "    data = requests.get(url, params={'User-agent': f'your bot '})\n",
    "\n",
    "    finance_complaint_data = list(map(lambda x: x[\"_source\"],\n",
    "                                    filter(lambda x: \"_source\" in x.keys(),\n",
    "                                            json.loads(data.content))))\n",
    "    if len(finance_complaint_data)==0:\n",
    "        return None\n",
    "    #save_from_date_to_date({\"from_date\": from_date_obj, \"to_date\": to_date_obj})\n",
    "\n",
    "    return finance_complaint_data"
   ]
  },
  {
   "cell_type": "code",
   "execution_count": 4,
   "metadata": {},
   "outputs": [
    {
     "name": "stdout",
     "output_type": "stream",
     "text": [
      "https://www.consumerfinance.gov/data-research/consumer-complaints/search/api/v1/?date_received_max=2023-01-05&date_received_min=2023-01-01&field=all&format=json\n",
      "Started downloading data\n",
      "14522\n"
     ]
    }
   ],
   "source": [
    "tmp = download_data()\n",
    "print(len(tmp))"
   ]
  },
  {
   "cell_type": "code",
   "execution_count": 5,
   "metadata": {},
   "outputs": [
    {
     "name": "stdout",
     "output_type": "stream",
     "text": [
      "https://www.consumerfinance.gov/data-research/consumer-complaints/search/api/v1/?date_received_max=2023-01-05&date_received_min=2023-01-01&field=all&format=json\n",
      "Started downloading data\n"
     ]
    }
   ],
   "source": [
    "table_name = \"finance_complaint\"\n",
    "def get_dataframe():\n",
    "\n",
    "    data = download_data()\n",
    "    if data is None:\n",
    "        print(\"data not available\")\n",
    "        return None\n",
    "    df = spark.createDataFrame(data)\n",
    "    return df\n",
    "\n",
    "df=get_dataframe()\n"
   ]
  },
  {
   "cell_type": "code",
   "execution_count": 6,
   "metadata": {},
   "outputs": [
    {
     "name": "stdout",
     "output_type": "stream",
     "text": [
      "+--------------------+-----------------------+--------------------+------------+-----------------------+-------------------------+-----------------+--------------------+--------------------+--------------------+--------------------+-----+--------------------+----------------+-------------+-------------+------+--------+\n",
      "|             company|company_public_response|    company_response|complaint_id|complaint_what_happened|consumer_consent_provided|consumer_disputed|       date_received|date_sent_to_company|               issue|             product|state|           sub_issue|     sub_product|submitted_via|         tags|timely|zip_code|\n",
      "+--------------------+-----------------------+--------------------+------------+-----------------------+-------------------------+-----------------+--------------------+--------------------+--------------------+--------------------+-----+--------------------+----------------+-------------+-------------+------+--------+\n",
      "|TRANSUNION INTERM...|   Company has respo...|Closed with non-m...|     6397362|                       |     Consent not provided|              N/A|2023-01-04T12:00:...|2023-01-04T12:00:...|Improper use of y...|Credit reporting,...|   WI|Reporting company...|Credit reporting|          Web|         null|   Yes|   53209|\n",
      "|TRANSUNION INTERM...|   Company has respo...|Closed with non-m...|     6404018|                       |     Consent not provided|              N/A|2023-01-05T12:00:...|2023-01-05T12:00:...|Problem with a cr...|Credit reporting,...|   LA|Their investigati...|Credit reporting|          Web|         null|   Yes|   70501|\n",
      "|TRANSUNION INTERM...|   Company has respo...|Closed with non-m...|     6389544|                       |     Consent not provided|              N/A|2023-01-04T12:00:...|2023-01-04T12:00:...|Incorrect informa...|Credit reporting,...|   AZ|Personal informat...|Credit reporting|          Web|         null|   Yes|   85050|\n",
      "|TRANSUNION INTERM...|   Company has respo...|Closed with non-m...|     6394716|                       |     Consent not provided|              N/A|2023-01-04T12:00:...|2023-01-04T12:00:...|Improper use of y...|Credit reporting,...|   NC|Reporting company...|Credit reporting|          Web|         null|   Yes|   28306|\n",
      "|       EQUIFAX, INC.|                   null|Closed with expla...|     6385395|                       |     Consent not provided|              N/A|2023-01-02T12:00:...|2023-01-02T12:00:...|Incorrect informa...|Credit reporting,...|   VA|Information belon...|Credit reporting|          Web|         null|   Yes|   22306|\n",
      "|Experian Informat...|   Company has respo...|Closed with expla...|     6389192|                       |     Consent not provided|              N/A|2023-01-02T12:00:...|2023-01-02T12:00:...|Improper use of y...|Credit reporting,...|   SC|Reporting company...|Credit reporting|          Web|         null|   Yes|   29510|\n",
      "|       EQUIFAX, INC.|                   null|Closed with expla...|     6383903|   When I reviewed m...|         Consent provided|              N/A|2023-01-02T12:00:...|2023-01-02T12:00:...|Problem with a cr...|Credit reporting,...|   IL|Their investigati...|Credit reporting|          Web|         null|   Yes|   60901|\n",
      "|Experian Informat...|   Company has respo...|Closed with expla...|     6396927|   I would like my n...|         Consent provided|              N/A|2023-01-04T12:00:...|2023-01-04T12:00:...|Incorrect informa...|Credit reporting,...|   IL|Personal informat...|Credit reporting|          Web|         null|   Yes|   60088|\n",
      "|Experian Informat...|   Company has respo...|Closed with non-m...|     6390915|                       |     Consent not provided|              N/A|2023-01-03T12:00:...|2023-01-03T12:00:...|Incorrect informa...|Credit reporting,...|   TX|Account status in...|Credit reporting|          Web|Servicemember|   Yes|   78660|\n",
      "|TRANSUNION INTERM...|   Company has respo...|Closed with non-m...|     6398458|                       |     Consent not provided|              N/A|2023-01-04T12:00:...|2023-01-04T12:00:...|Problem with a cr...|Credit reporting,...|   VA|Was not notified ...|Credit reporting|          Web|         null|   Yes|   24277|\n",
      "+--------------------+-----------------------+--------------------+------------+-----------------------+-------------------------+-----------------+--------------------+--------------------+--------------------+--------------------+-----+--------------------+----------------+-------------+-------------+------+--------+\n",
      "only showing top 10 rows\n",
      "\n"
     ]
    }
   ],
   "source": [
    "df.show(10)"
   ]
  },
  {
   "cell_type": "code",
   "execution_count": 7,
   "metadata": {},
   "outputs": [
    {
     "name": "stdout",
     "output_type": "stream",
     "text": [
      "root\n",
      " |-- company: string (nullable = true)\n",
      " |-- company_public_response: string (nullable = true)\n",
      " |-- company_response: string (nullable = true)\n",
      " |-- complaint_id: string (nullable = true)\n",
      " |-- complaint_what_happened: string (nullable = true)\n",
      " |-- consumer_consent_provided: string (nullable = true)\n",
      " |-- consumer_disputed: string (nullable = true)\n",
      " |-- date_received: string (nullable = true)\n",
      " |-- date_sent_to_company: string (nullable = true)\n",
      " |-- issue: string (nullable = true)\n",
      " |-- product: string (nullable = true)\n",
      " |-- state: string (nullable = true)\n",
      " |-- sub_issue: string (nullable = true)\n",
      " |-- sub_product: string (nullable = true)\n",
      " |-- submitted_via: string (nullable = true)\n",
      " |-- tags: string (nullable = true)\n",
      " |-- timely: string (nullable = true)\n",
      " |-- zip_code: string (nullable = true)\n",
      "\n"
     ]
    }
   ],
   "source": [
    "df.printSchema()"
   ]
  },
  {
   "cell_type": "code",
   "execution_count": 8,
   "metadata": {},
   "outputs": [],
   "source": [
    "if spark.sql(f\"show tables\").filter(f\"tableName='{table_name}'\").count()>0:\n",
    "    print(f\"Table already exist\")\n",
    "    spark.sql(f\"drop table {table_name}\")"
   ]
  },
  {
   "cell_type": "code",
   "execution_count": 9,
   "metadata": {},
   "outputs": [],
   "source": [
    "df.write.saveAsTable(table_name)\n",
    "\n",
    "# THe above Code writes data to local path (Inside spark-warehouse/finance-data/)\n",
    "# df.write.format(\"parquet\").mode(\"overwrite\").save(\"hdfs://your_hdfs_path\") ---- Will make it write to HDFS Path"
   ]
  },
  {
   "cell_type": "code",
   "execution_count": 10,
   "metadata": {},
   "outputs": [
    {
     "name": "stdout",
     "output_type": "stream",
     "text": [
      "+---------+\n",
      "|namespace|\n",
      "+---------+\n",
      "|  default|\n",
      "+---------+\n",
      "\n"
     ]
    }
   ],
   "source": [
    "spark.sql(\"show databases;\").show()"
   ]
  },
  {
   "cell_type": "code",
   "execution_count": 11,
   "metadata": {},
   "outputs": [
    {
     "name": "stdout",
     "output_type": "stream",
     "text": [
      "++\n",
      "||\n",
      "++\n",
      "++\n",
      "\n"
     ]
    }
   ],
   "source": [
    "spark.sql(\"use default;\").show()"
   ]
  },
  {
   "cell_type": "code",
   "execution_count": 12,
   "metadata": {},
   "outputs": [
    {
     "name": "stdout",
     "output_type": "stream",
     "text": [
      "+---------+-----------------+-----------+\n",
      "|namespace|        tableName|isTemporary|\n",
      "+---------+-----------------+-----------+\n",
      "|  default|finance_complaint|      false|\n",
      "+---------+-----------------+-----------+\n",
      "\n"
     ]
    }
   ],
   "source": [
    "spark.sql(\"show tables;\").show()"
   ]
  },
  {
   "cell_type": "code",
   "execution_count": 13,
   "metadata": {},
   "outputs": [],
   "source": [
    "df.createOrReplaceTempView(\"finance_complaint\")"
   ]
  },
  {
   "cell_type": "code",
   "execution_count": 14,
   "metadata": {},
   "outputs": [
    {
     "name": "stdout",
     "output_type": "stream",
     "text": [
      "+--------------------+-----------------------+--------------------+------------+-----------------------+-------------------------+-----------------+--------------------+--------------------+--------------------+--------------------+-----+--------------------+----------------+-------------+-------------+------+--------+\n",
      "|             company|company_public_response|    company_response|complaint_id|complaint_what_happened|consumer_consent_provided|consumer_disputed|       date_received|date_sent_to_company|               issue|             product|state|           sub_issue|     sub_product|submitted_via|         tags|timely|zip_code|\n",
      "+--------------------+-----------------------+--------------------+------------+-----------------------+-------------------------+-----------------+--------------------+--------------------+--------------------+--------------------+-----+--------------------+----------------+-------------+-------------+------+--------+\n",
      "|TRANSUNION INTERM...|   Company has respo...|Closed with non-m...|     6397362|                       |     Consent not provided|              N/A|2023-01-04T12:00:...|2023-01-04T12:00:...|Improper use of y...|Credit reporting,...|   WI|Reporting company...|Credit reporting|          Web|         null|   Yes|   53209|\n",
      "|TRANSUNION INTERM...|   Company has respo...|Closed with non-m...|     6404018|                       |     Consent not provided|              N/A|2023-01-05T12:00:...|2023-01-05T12:00:...|Problem with a cr...|Credit reporting,...|   LA|Their investigati...|Credit reporting|          Web|         null|   Yes|   70501|\n",
      "|TRANSUNION INTERM...|   Company has respo...|Closed with non-m...|     6389544|                       |     Consent not provided|              N/A|2023-01-04T12:00:...|2023-01-04T12:00:...|Incorrect informa...|Credit reporting,...|   AZ|Personal informat...|Credit reporting|          Web|         null|   Yes|   85050|\n",
      "|TRANSUNION INTERM...|   Company has respo...|Closed with non-m...|     6394716|                       |     Consent not provided|              N/A|2023-01-04T12:00:...|2023-01-04T12:00:...|Improper use of y...|Credit reporting,...|   NC|Reporting company...|Credit reporting|          Web|         null|   Yes|   28306|\n",
      "|       EQUIFAX, INC.|                   null|Closed with expla...|     6385395|                       |     Consent not provided|              N/A|2023-01-02T12:00:...|2023-01-02T12:00:...|Incorrect informa...|Credit reporting,...|   VA|Information belon...|Credit reporting|          Web|         null|   Yes|   22306|\n",
      "|Experian Informat...|   Company has respo...|Closed with expla...|     6389192|                       |     Consent not provided|              N/A|2023-01-02T12:00:...|2023-01-02T12:00:...|Improper use of y...|Credit reporting,...|   SC|Reporting company...|Credit reporting|          Web|         null|   Yes|   29510|\n",
      "|       EQUIFAX, INC.|                   null|Closed with expla...|     6383903|   When I reviewed m...|         Consent provided|              N/A|2023-01-02T12:00:...|2023-01-02T12:00:...|Problem with a cr...|Credit reporting,...|   IL|Their investigati...|Credit reporting|          Web|         null|   Yes|   60901|\n",
      "|Experian Informat...|   Company has respo...|Closed with expla...|     6396927|   I would like my n...|         Consent provided|              N/A|2023-01-04T12:00:...|2023-01-04T12:00:...|Incorrect informa...|Credit reporting,...|   IL|Personal informat...|Credit reporting|          Web|         null|   Yes|   60088|\n",
      "|Experian Informat...|   Company has respo...|Closed with non-m...|     6390915|                       |     Consent not provided|              N/A|2023-01-03T12:00:...|2023-01-03T12:00:...|Incorrect informa...|Credit reporting,...|   TX|Account status in...|Credit reporting|          Web|Servicemember|   Yes|   78660|\n",
      "|TRANSUNION INTERM...|   Company has respo...|Closed with non-m...|     6398458|                       |     Consent not provided|              N/A|2023-01-04T12:00:...|2023-01-04T12:00:...|Problem with a cr...|Credit reporting,...|   VA|Was not notified ...|Credit reporting|          Web|         null|   Yes|   24277|\n",
      "+--------------------+-----------------------+--------------------+------------+-----------------------+-------------------------+-----------------+--------------------+--------------------+--------------------+--------------------+-----+--------------------+----------------+-------------+-------------+------+--------+\n",
      "\n"
     ]
    }
   ],
   "source": [
    "spark.sql(\"select * from finance_complaint limit 10\").show()"
   ]
  },
  {
   "cell_type": "code",
   "execution_count": 15,
   "metadata": {},
   "outputs": [
    {
     "name": "stdout",
     "output_type": "stream",
     "text": [
      "+--------------------+-----------------------+--------------------+------------+\n",
      "|             company|company_public_response|    company_response|complaint_id|\n",
      "+--------------------+-----------------------+--------------------+------------+\n",
      "|TRANSUNION INTERM...|   Company has respo...|Closed with non-m...|     6397362|\n",
      "|TRANSUNION INTERM...|   Company has respo...|Closed with non-m...|     6404018|\n",
      "|TRANSUNION INTERM...|   Company has respo...|Closed with non-m...|     6389544|\n",
      "|TRANSUNION INTERM...|   Company has respo...|Closed with non-m...|     6394716|\n",
      "|       EQUIFAX, INC.|                   null|Closed with expla...|     6385395|\n",
      "|Experian Informat...|   Company has respo...|Closed with expla...|     6389192|\n",
      "|       EQUIFAX, INC.|                   null|Closed with expla...|     6383903|\n",
      "|Experian Informat...|   Company has respo...|Closed with expla...|     6396927|\n",
      "|Experian Informat...|   Company has respo...|Closed with non-m...|     6390915|\n",
      "|TRANSUNION INTERM...|   Company has respo...|Closed with non-m...|     6398458|\n",
      "+--------------------+-----------------------+--------------------+------------+\n",
      "\n"
     ]
    }
   ],
   "source": [
    "spark.sql(\"\"\"select  company,\n",
    " company_public_response,\n",
    " company_response,\n",
    " complaint_id from finance_complaint  limit 10\"\"\").show()\n",
    "\n",
    "\n",
    "\n"
   ]
  },
  {
   "cell_type": "code",
   "execution_count": 16,
   "metadata": {},
   "outputs": [
    {
     "name": "stdout",
     "output_type": "stream",
     "text": [
      "+--------------------+-----------+\n",
      "|             company|n_complaint|\n",
      "+--------------------+-----------+\n",
      "|TRANSUNION INTERM...|       3711|\n",
      "|Experian Informat...|       3607|\n",
      "|       EQUIFAX, INC.|       3585|\n",
      "|WELLS FARGO & COM...|        190|\n",
      "|CAPITAL ONE FINAN...|        181|\n",
      "+--------------------+-----------+\n",
      "\n"
     ]
    }
   ],
   "source": [
    "#Top 5 Companies with complaint\n",
    "\n",
    "\n",
    "spark.sql(\"\"\"\n",
    "select company,count(*) as n_complaint from finance_complaint\n",
    "group by company order by  n_complaint desc limit 5\n",
    "\n",
    "\"\"\").show()"
   ]
  },
  {
   "cell_type": "code",
   "execution_count": 17,
   "metadata": {},
   "outputs": [
    {
     "data": {
      "text/plain": [
       "<matplotlib.axes._subplots.AxesSubplot at 0x7f6387118390>"
      ]
     },
     "execution_count": 17,
     "metadata": {},
     "output_type": "execute_result"
    },
    {
     "data": {
      "image/png": "[encoded data removed]",
      "text/plain": [
       "<Figure size 432x288 with 1 Axes>"
      ]
     },
     "metadata": {},
     "output_type": "display_data"
    }
   ],
   "source": [
    "#Creating Bar chart\n",
    "\n",
    "spark.sql(\"\"\"\n",
    "select company,count(*) as n_complaint from finance_complaint\n",
    "group by company order by  n_complaint desc limit 5\n",
    "\n",
    "\"\"\").toPandas().plot(kind=\"pie\",y=\"n_complaint\",)\n"
   ]
  },
  {
   "cell_type": "code",
   "execution_count": 18,
   "metadata": {},
   "outputs": [],
   "source": [
    "df = spark.sql(\"select * from finance_complaint\")"
   ]
  },
  {
   "cell_type": "code",
   "execution_count": 19,
   "metadata": {},
   "outputs": [
    {
     "name": "stdout",
     "output_type": "stream",
     "text": [
      "+----------------------------------------------------------------------------+-----------+\n",
      "|product                                                                     |n_complaint|\n",
      "+----------------------------------------------------------------------------+-----------+\n",
      "|Credit reporting, credit repair services, or other personal consumer reports|11674      |\n",
      "|Debt collection                                                             |897        |\n",
      "|Credit card or prepaid card                                                 |617        |\n",
      "|Checking or savings account                                                 |512        |\n",
      "|Mortgage                                                                    |310        |\n",
      "+----------------------------------------------------------------------------+-----------+\n",
      "\n"
     ]
    }
   ],
   "source": [
    "#Number of complaint for each product\n",
    "\n",
    "spark.sql(\"\"\"\n",
    "select product,count(*) as n_complaint from finance_complaint\n",
    "group by product order by  n_complaint desc limit 5\n",
    "\n",
    "\"\"\").show(truncate=False)"
   ]
  },
  {
   "cell_type": "code",
   "execution_count": 20,
   "metadata": {},
   "outputs": [
    {
     "data": {
      "text/plain": [
       "<matplotlib.axes._subplots.AxesSubplot at 0x7f6386b36e10>"
      ]
     },
     "execution_count": 20,
     "metadata": {},
     "output_type": "execute_result"
    },
    {
     "data": {
      "image/png": "[encoded data removed]",
      "text/plain": [
       "<Figure size 432x288 with 1 Axes>"
      ]
     },
     "metadata": {},
     "output_type": "display_data"
    }
   ],
   "source": [
    "spark.sql(\"\"\"\n",
    "select product,count(*) as n_complaint from finance_complaint\n",
    "group by product order by  n_complaint desc limit 5\n",
    "\n",
    "\"\"\").toPandas().plot(kind=\"pie\",y=\"n_complaint\",)"
   ]
  },
  {
   "cell_type": "code",
   "execution_count": 21,
   "metadata": {},
   "outputs": [
    {
     "name": "stdout",
     "output_type": "stream",
     "text": [
      "+--------+\n",
      "|count(1)|\n",
      "+--------+\n",
      "|       9|\n",
      "+--------+\n",
      "\n"
     ]
    }
   ],
   "source": [
    "#Number of unique product\n",
    "\n",
    "\n",
    "spark.sql(\"\"\"\n",
    "with res as(\n",
    "select product from finance_complaint\n",
    "group by product )\n",
    "select count(*) from res;\n",
    "\n",
    "\n",
    "\"\"\").show()"
   ]
  },
  {
   "cell_type": "code",
   "execution_count": 22,
   "metadata": {},
   "outputs": [
    {
     "name": "stdout",
     "output_type": "stream",
     "text": [
      "+----------------------------------------------------------------------------+-----------+\n",
      "|product                                                                     |n_complaint|\n",
      "+----------------------------------------------------------------------------+-----------+\n",
      "|Credit reporting, credit repair services, or other personal consumer reports|11674      |\n",
      "|Debt collection                                                             |897        |\n",
      "|Credit card or prepaid card                                                 |617        |\n",
      "|Checking or savings account                                                 |512        |\n",
      "|Mortgage                                                                    |310        |\n",
      "|Money transfer, virtual currency, or money service                          |184        |\n",
      "|Vehicle loan or lease                                                       |154        |\n",
      "|Student loan                                                                |90         |\n",
      "|Payday loan, title loan, or personal loan                                   |84         |\n",
      "+----------------------------------------------------------------------------+-----------+\n",
      "\n"
     ]
    }
   ],
   "source": [
    "spark.sql(\"\"\"\n",
    "select product,count(*) as n_complaint from finance_complaint\n",
    "group by product order by  n_complaint desc\n",
    "\n",
    "\"\"\").show(truncate=False)"
   ]
  },
  {
   "cell_type": "code",
   "execution_count": null,
   "metadata": {},
   "outputs": [],
   "source": []
  },
  {
   "cell_type": "code",
   "execution_count": null,
   "metadata": {},
   "outputs": [],
   "source": []
  }
 ],
 "metadata": {
  "kernelspec": {
   "display_name": "Python 3",
   "language": "python",
   "name": "python3"
  },
  "language_info": {
   "codemirror_mode": {
    "name": "ipython",
    "version": 3
   },
   "file_extension": ".py",
   "mimetype": "text/x-python",
   "name": "python",
   "nbconvert_exporter": "python",
   "pygments_lexer": "ipython3",
   "version": "3.7.6"
  }
 },
 "nbformat": 4,
 "nbformat_minor": 4
}
